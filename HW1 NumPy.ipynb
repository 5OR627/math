{
 "cells": [
  {
   "cell_type": "code",
   "execution_count": 49,
   "id": "e2f4004c",
   "metadata": {},
   "outputs": [],
   "source": [
    "import numpy as np\n",
    "import pandas as pd"
   ]
  },
  {
   "cell_type": "markdown",
   "id": "51c87648",
   "metadata": {},
   "source": [
    "### 1"
   ]
  },
  {
   "cell_type": "code",
   "execution_count": 88,
   "id": "41ae8a03",
   "metadata": {},
   "outputs": [
    {
     "data": {
      "text/plain": [
       "array([[ 1,  6],\n",
       "       [ 2,  8],\n",
       "       [ 3, 11],\n",
       "       [ 3, 10],\n",
       "       [ 1,  7]])"
      ]
     },
     "execution_count": 88,
     "metadata": {},
     "output_type": "execute_result"
    }
   ],
   "source": [
    "Numpy = np.array([[ 1, 2, 3, 3, 1], [ 6, 8, 11, 10, 7]])\n",
    "Numpy = Numpy.transpose()\n",
    "Numpy"
   ]
  },
  {
   "cell_type": "code",
   "execution_count": 92,
   "id": "07de6f1e",
   "metadata": {},
   "outputs": [
    {
     "data": {
      "text/plain": [
       "array([2. , 8.4])"
      ]
     },
     "execution_count": 92,
     "metadata": {},
     "output_type": "execute_result"
    }
   ],
   "source": [
    "mean_a = np.mean(Numpy, axis = 0)\n",
    "mean_a\n"
   ]
  },
  {
   "cell_type": "markdown",
   "id": "3db52cbd",
   "metadata": {},
   "source": [
    "### 2"
   ]
  },
  {
   "cell_type": "code",
   "execution_count": 91,
   "id": "fec270e6",
   "metadata": {},
   "outputs": [
    {
     "data": {
      "text/plain": [
       "array([[ 1,  6],\n",
       "       [ 2,  8],\n",
       "       [ 3, 11],\n",
       "       [ 3, 10],\n",
       "       [ 1,  7]])"
      ]
     },
     "execution_count": 91,
     "metadata": {},
     "output_type": "execute_result"
    }
   ],
   "source": [
    "a = Numpy.copy()\n",
    "a"
   ]
  },
  {
   "cell_type": "code",
   "execution_count": 93,
   "id": "d83cf4e5",
   "metadata": {},
   "outputs": [
    {
     "data": {
      "text/plain": [
       "matrix([[-1. , -2.4],\n",
       "        [ 0. , -0.4],\n",
       "        [ 1. ,  2.6],\n",
       "        [ 1. ,  1.6],\n",
       "        [-1. , -1.4]])"
      ]
     },
     "execution_count": 93,
     "metadata": {},
     "output_type": "execute_result"
    }
   ],
   "source": [
    "\n",
    "\n",
    "a_centered = np.subtract(a, np.matrix(mean_a))\n",
    "a_centered\n",
    "\n"
   ]
  },
  {
   "cell_type": "markdown",
   "id": "d4a1c5a9",
   "metadata": {},
   "source": [
    "### 3"
   ]
  },
  {
   "cell_type": "code",
   "execution_count": 103,
   "id": "dce5759a",
   "metadata": {},
   "outputs": [
    {
     "data": {
      "text/plain": [
       "matrix([[ 2.4, -0. , -2.4, -2.4,  2.4],\n",
       "        [ 0.4, -0. , -0.4, -0.4,  0.4],\n",
       "        [-2.6,  0. ,  2.6,  2.6, -2.6],\n",
       "        [-1.6,  0. ,  1.6,  1.6, -1.6],\n",
       "        [ 1.4, -0. , -1.4, -1.4,  1.4]])"
      ]
     },
     "execution_count": 103,
     "metadata": {},
     "output_type": "execute_result"
    }
   ],
   "source": [
    "x = np.dot(a_centered[:, 1], np.transpose(a_centered[:, 0]))\n",
    "x\n"
   ]
  }
 ],
 "metadata": {
  "kernelspec": {
   "display_name": "Python 3 (ipykernel)",
   "language": "python",
   "name": "python3"
  },
  "language_info": {
   "codemirror_mode": {
    "name": "ipython",
    "version": 3
   },
   "file_extension": ".py",
   "mimetype": "text/x-python",
   "name": "python",
   "nbconvert_exporter": "python",
   "pygments_lexer": "ipython3",
   "version": "3.9.13"
  }
 },
 "nbformat": 4,
 "nbformat_minor": 5
}
